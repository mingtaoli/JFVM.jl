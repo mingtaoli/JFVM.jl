{
 "cells": [
  {
   "cell_type": "markdown",
   "metadata": {},
   "source": [
    "During the Christmas holidays, I spent some time to convert my Matlab [FVTool](https://github.com/simulkade/FVTool) to a [Julia package](http://pkg.julialang.org/). The result, which I call [JFVM](https://github.com/simulkade/JFVM.jl) is a bit Matlabesque, but the package works. In this post I'm going to show how it works.\n",
    "\n",
    "## Installation\n",
    "To install the package, you can use  \n",
    "```\n",
    "]add https://github.com/simulkade/JFVM.jl\n",
    "``` \n",
    "in Julia. You need to have Julia installed, of course! \n",
    "`JFVM` visualisation relies on `PyPlot` and `PyCall`. The visualization package can be installed by\n",
    "```\n",
    "]add https://github.com/simulkade/JFVMvis.jl\n",
    "``` \n",
    "\n",
    "## What does it do?\n",
    "It solves a transient convection-diffusion equation, i.e., $$\\alpha\\frac{\\partial\\phi}{\\partial t}+\\nabla.\\left(\\mathbf{u}\\phi\\right)+\\nabla.\\left(-D\\nabla\\phi\\right)+\\beta\\phi=\\gamma$$ with the boundary condition: $$a\\nabla\\phi.\\mathbf{e}+b\\phi=c.$$ Each term, i.e., transient, convection, diffusion, linear source, and constant source terms can be called via a separate function, which makes it possible to use the code for solving various coupled and even non-linear convection-diffusion equations. The main difference between this code and the previous Matlab version is that in this one, nonuniform grids can be defined. The supported coordinates are  \n",
    "  - 1D axisymmetric (radial)\n",
    "  - 2D radial (r, theta)\n",
    "  - 2D Cartesian\n",
    "  - 3D Cartesian\n",
    "  - 2D axisymmetric (cylindrical, r, z)\n",
    "  - 3D cylindrical (r, theta, z)\n",
    "One other thing that I always had in mind is the possibility to use hetrogeneous transfer coefficients, e.g., a diffusion coefficient that is different on each cell. In addition, I wanted to be able to define different boundary conditions on the faces of the boundary cell. The last feature that I constantly miss in other PDE solvers is the Robin boundary condition, which can be defined quite easily in JFVM.  \n",
    "One last feature that I added in later stages was the periodic boundary condition.\n",
    "\n",
    "## A simple example\n",
    "This is perhaps the simplest example: a diffusion equation on a 1D domain, with a Dirichlet boundary on each side. The equation read $$\\nabla (-D \\nabla \\phi) = 0$$ where $\\phi$ is zero on the left and one on the right side of the domain. The formulation in `JFVM` always follows this sequence:\n",
    "  - Create a domain and mesh\n",
    "  - Create a boundary for the domain (default: Neumann)\n",
    "  - Change the boundary condition (optional)\n",
    "  - Define the initial condition (optional, only if you have transient terms)\n",
    "  - Define the transfer coefficients\n",
    "  - Calculate the matrix of coefficients and RHS vector for each transfer term in the PDE\n",
    "  - Call the linear solver\n",
    "  - Call the visualization tool\n",
    "There can be other steps in between depending on the problems."
   ]
  },
  {
   "cell_type": "code",
   "execution_count": 1,
   "metadata": {},
   "outputs": [
    {
     "name": "stderr",
     "output_type": "stream",
     "text": [
      "┌ Info: Precompiling JFVM [d32f81f0-000d-5c7c-8375-24efa40f8589]\n",
      "└ @ Base loading.jl:1317\n",
      "\u001b[36m\u001b[1m[ \u001b[22m\u001b[39m\u001b[36m\u001b[1mInfo: \u001b[22m\u001b[39mMUMPS solver (optional) is not available.\n",
      "┌ Info: Precompiling JFVMvis [a8ca9cd4-68e5-5638-b0e9-a2bb7b38c666]\n",
      "└ @ Base loading.jl:1317\n"
     ]
    }
   ],
   "source": [
    "using JFVM, JFVMvis, PyPlot"
   ]
  },
  {
   "cell_type": "code",
   "execution_count": 4,
   "metadata": {},
   "outputs": [
    {
     "data": {
      "image/png": "[encoded data removed]",
      "text/plain": [
       "Figure(PyObject <Figure size 600x500 with 1 Axes>)"
      ]
     },
     "metadata": {},
     "output_type": "display_data"
    },
    {
     "data": {
      "text/plain": [
       "PyObject Text(37.0, 0.5, '$\\\\phi$')"
      ]
     },
     "execution_count": 4,
     "metadata": {},
     "output_type": "execute_result"
    }
   ],
   "source": [
    "L= 1.0 # length of the domain\n",
    "Nx= 20 # number of cells\n",
    "m= createMesh1D(Nx, L) # create the domain and mesh\n",
    "BC= createBC(m) # create the boundary condition\n",
    "BC.left.a .= 0.0 # left side Neumann term equal to zero\n",
    "BC.left.b .= 1.0 # left side Dirichlet term coefficient equal to one\n",
    "BC.left.c .= 0.0 # left side Dirichlet term value equal to zero\n",
    "BC.right.a .= 0.0\n",
    "BC.right.b .= 1.0\n",
    "BC.right.c .= 1.0\n",
    "D_val= 1.0 # value of the transfer coefficient\n",
    "D= createCellVariable(m, D_val) # assign D_val to all the cells\n",
    "# harmonic average of the transfer coefficient on the cell faces:\n",
    "D_face= harmonicMean(D)\n",
    "(Mbc, RHSbc)= boundaryConditionTerm(BC)\n",
    "Mdiff= diffusionTerm(D_face)\n",
    "M= Mdiff+Mbc # matrix of coefficients\n",
    "RHS= RHSbc # off course!\n",
    "phi= solveLinearPDE(m, M, RHS) # solve the linear PDE\n",
    "figure(figsize=(6.0,5.0)) # unit is [cm] for me\n",
    "visualizeCells(phi) # visualize the results\n",
    "# decorate the plot\n",
    "xlabel(\"x\", fontsize=16)\n",
    "ylabel(L\"\\phi\", fontsize=16)"
   ]
  },
  {
   "cell_type": "markdown",
   "metadata": {},
   "source": [
    "## A colorful a bit playful case\n",
    "The other night, my daughter wanted to see what I do with my computer. So I decided to solve an equation with fancy colorful results. So I created a diffusion process on a radial coordinate, Dirichlet boundary condition near the center of the circle (with alternationg zero-one values on the left boundary). I reduced the value of the diffusion coefficient in the direction of increasing $\\theta$ to increase the contrast in the result. Let me recreate it here."
   ]
  },
  {
   "cell_type": "code",
   "execution_count": 2,
   "metadata": {},
   "outputs": [
    {
     "ename": "LoadError",
     "evalue": "UndefVarError: Ny not defined",
     "output_type": "error",
     "traceback": [
      "UndefVarError: Ny not defined",
      "",
      "Stacktrace:",
      " [1] boundaryConditionRadial2D(BC::BoundaryCondition)",
      "   @ JFVM ~/projects/JFVM.jl/src/boundarycondition.jl:432",
      " [2] boundaryConditionTerm(BC::BoundaryCondition)",
      "   @ JFVM ~/projects/JFVM.jl/src/boundarycondition.jl:50",
      " [3] top-level scope",
      "   @ In[2]:21",
      " [4] eval",
      "   @ ./boot.jl:360 [inlined]",
      " [5] include_string(mapexpr::typeof(REPL.softscope), mod::Module, code::String, filename::String)",
      "   @ Base ./loading.jl:1094"
     ]
    }
   ],
   "source": [
    "L= 1.0 # length of the domain\n",
    "Nx= 30 # number of cells\n",
    "Ntheta= 5*20\n",
    "m= createMeshRadial2D(Nx, Ntheta, L, 2π) # create the domain and mesh\n",
    "m.cellcenters.x .+= 0.1\n",
    "m.facecenters.x .+= 0.1\n",
    "BC= createBC(m) # create the boundary condition\n",
    "BC.left.a .= 0.0 # left side Neumann term equal to zero\n",
    "BC.left.b .= 1.0 # left side Dirichlet term coefficient equal to one\n",
    "BC.left.c .= 0.0 # left side Dirichlet term value equal to zero\n",
    "BC.left.c[1:5:Ntheta] .= 1.0\n",
    "BC.right.a .= 0.0\n",
    "BC.right.b .= 1.0\n",
    "BC.right.c .= 0.0\n",
    "BC.bottom.periodic=true # periodic boundary condition\n",
    "D_val= 1.0 # value of the transfer coefficient\n",
    "D= createCellVariable(m, D_val) # assign D_val to all the cells\n",
    "# harmonic average of the transfer coefficient on the cell faces:\n",
    "D_face= harmonicMean(D)\n",
    "D_face.yvalue .= 0.003*D_val\n",
    "(Mbc, RHSbc)= boundaryConditionTerm(BC)\n",
    "Mdiff= diffusionTerm(D_face)\n",
    "M= -Mdiff+Mbc # matrix of coefficients\n",
    "RHS= RHSbc # off course!\n",
    "phi= solveLinearPDE(m, M, RHS) # solve the linear PDE\n",
    "visualizeCells(phi) # visualize the results"
   ]
  },
  {
   "cell_type": "code",
   "execution_count": 8,
   "metadata": {},
   "outputs": [
    {
     "data": {
      "text/plain": [
       "true"
      ]
     },
     "execution_count": 8,
     "metadata": {},
     "output_type": "execute_result"
    }
   ],
   "source": [
    "BC.bottom.periodic"
   ]
  },
  {
   "cell_type": "markdown",
   "metadata": {},
   "source": [
    "## Not really bad!\n",
    "That's it for now. I will come back with more real life examples."
   ]
  }
 ],
 "metadata": {
  "@webio": {
   "lastCommId": null,
   "lastKernelId": null
  },
  "kernelspec": {
   "display_name": "Julia 1.6.0",
   "language": "julia",
   "name": "julia-1.6"
  },
  "language_info": {
   "file_extension": ".jl",
   "mimetype": "application/julia",
   "name": "julia",
   "version": "1.6.0"
  },
  "toc": {
   "base_numbering": 1,
   "nav_menu": {},
   "number_sections": true,
   "sideBar": true,
   "skip_h1_title": false,
   "title_cell": "Table of Contents",
   "title_sidebar": "Contents",
   "toc_cell": false,
   "toc_position": {},
   "toc_section_display": true,
   "toc_window_display": false
  }
 },
 "nbformat": 4,
 "nbformat_minor": 1
}
